{
 "cells": [
  {
   "cell_type": "code",
   "execution_count": null,
   "metadata": {},
   "outputs": [],
   "source": [
    "import numpy as np\n",
    "\n",
    "import matplotlib.pyplot as plt\n",
    "plt.rcParams.update({'font.size': 22})\n",
    "\n",
    "from kachmarz import kaczmarz_alg\n",
    "from utils import generate_train_set, get_squared_error, get_x"
   ]
  },
  {
   "cell_type": "markdown",
   "metadata": {},
   "source": [
    "# Общие настройки\n",
    "Задаем размеры обучающей выборки, кол-во фичей"
   ]
  },
  {
   "cell_type": "code",
   "execution_count": null,
   "metadata": {},
   "outputs": [],
   "source": [
    "sample_size = 200  # размер выборки\n",
    "num_of_features = 4 # кол-во признаков - кол-во столбцов в матр. x и размер вектора w\n",
    "\n",
    "w = np.array([0.1, 0.2, 0.3, 0.4]) # это будет истинным значением памяти модели y = x * w\n",
    "                                   # x - array of shape (sample_size, num_of_features)\n",
    "                                   # w - array of shape (num_of_features, 1)"
   ]
  },
  {
   "cell_type": "markdown",
   "metadata": {},
   "source": [
    "# Без шума\n",
    "находим веса w для линейной модели y = x * w"
   ]
  },
  {
   "cell_type": "code",
   "execution_count": null,
   "metadata": {},
   "outputs": [],
   "source": [
    "sigma = 0 # дисперсия ошибки(она накладывается на y)"
   ]
  },
  {
   "cell_type": "code",
   "execution_count": null,
   "metadata": {},
   "outputs": [],
   "source": [
    "x, y = generate_train_set(w, sigma, sample_size, num_of_features)  \n",
    "\n",
    "gen = kaczmarz_alg(x, y, gamma=0.6)\n",
    "print(x.shape, y.shape)\n",
    "w_estiomation_prev_step = next(gen)\n",
    "\n",
    "\n",
    "squared_error_prev_step = get_squared_error(w_estiomation_prev_step, w)\n",
    "errors = squared_error_prev_step\n",
    "weights = np.array([])\n",
    "\n",
    "for iteration_num, w_estimation in enumerate(gen):\n",
    "    print(iteration_num)\n",
    "    squared_error_current_step = get_squared_error(w_estimation, w)\n",
    "\n",
    "    w_estimation = w_estimation.reshape((-1,1))\n",
    "    print(w_estimation, w_estimation.shape, weights.shape)\n",
    "    if weights.size == 0:\n",
    "        weights = w_estimation\n",
    "    else:\n",
    "        weights = np.hstack((weights, w_estimation))\n",
    "    errors = np.append(errors, squared_error_current_step)"
   ]
  },
  {
   "cell_type": "markdown",
   "metadata": {},
   "source": [
    "## Графики изменения квадратичной ошибки весов и сходимости компонентов вектора весов"
   ]
  },
  {
   "cell_type": "code",
   "execution_count": null,
   "metadata": {},
   "outputs": [],
   "source": [
    "def plot_error_and_convergence(errors, weights):\n",
    "    fig = plt.figure(figsize=(20,20))\n",
    "\n",
    "    ax1 = fig.add_subplot(211)\n",
    "    ax1.plot(errors);\n",
    "    plt.xlabel('Номер итерации алгоритма Качмажа')\n",
    "    plt.ylabel('Квадратичная ошибка')\n",
    "    plt.title('Квадратичная ошибка: (w - w_estimation)^T * (w - w_estimation)')\n",
    "\n",
    "    ax2 = fig.add_subplot(212)\n",
    "    ax2.plot(weights.T)\n",
    "    plt.title('Как сходятся компоненты вектора w_estimation к w')\n",
    "    plt.xlabel('Номер итерации')\n",
    "    plt.ylabel('Численное значение компоненты вектора весов w')\n",
    "\n",
    "def plot_true_weights(weights, true_weights):\n",
    "    # Указываем истинные веса на графике: компоненты вектора w \n",
    "    for index, w_component in enumerate(np.asarray(true_weights).reshape((-1))):\n",
    "        plt.axhline(w_component, color='r', linestyle='--', label='{}: {}-ая компонента вектора w'.format(\n",
    "            w_component, index), alpha=0.5)\n",
    "\n",
    "    plt.legend(loc='center left', bbox_to_anchor=(1, 0.5))\n",
    "    plt.show()\n",
    "    \n",
    "plot_error_and_convergence(errors, weights)\n",
    "plot_true_weights(weights, w)"
   ]
  },
  {
   "cell_type": "markdown",
   "metadata": {},
   "source": [
    "# C шумом\n",
    "теперь ищем веса w для модели y = x * w + epsilon,\n",
    "где epsilon - случайная ошибка(она накладывается в момент генерации обучающей выборки\n",
    "и регулируется параметром sigma)"
   ]
  },
  {
   "cell_type": "code",
   "execution_count": null,
   "metadata": {},
   "outputs": [],
   "source": [
    "sigma = 0.2"
   ]
  },
  {
   "cell_type": "code",
   "execution_count": null,
   "metadata": {},
   "outputs": [],
   "source": [
    "x, y = generate_train_set(w, sigma, sample_size, num_of_features)  \n",
    "\n",
    "gen = kaczmarz_alg(x, y, gamma=0.6)\n",
    "w_estiomation_prev_step = next(gen)\n",
    "\n",
    "\n",
    "squared_error_prev_step = get_squared_error(w_estiomation_prev_step, w)\n",
    "errors = squared_error_prev_step\n",
    "weights = np.array([])\n",
    "\n",
    "for iteration_num, w_estimation in enumerate(gen):\n",
    "    print(iteration_num)\n",
    "    squared_error_current_step = get_squared_error(w_estimation, w)\n",
    "\n",
    "    w_estimation = w_estimation.reshape((-1,1))\n",
    "    print(w_estimation, w_estimation.shape, weights.shape)\n",
    "    if weights.size == 0:\n",
    "        weights = w_estimation\n",
    "    else:\n",
    "        weights = np.hstack((weights, w_estimation))\n",
    "    errors = np.append(errors, squared_error_current_step)"
   ]
  },
  {
   "cell_type": "code",
   "execution_count": null,
   "metadata": {},
   "outputs": [],
   "source": [
    "plot_error_and_convergence(errors, weights)\n",
    "plot_true_weights(weights, w)"
   ]
  },
  {
   "cell_type": "markdown",
   "metadata": {},
   "source": [
    "# Теперь веса w будут линейно изменяться во времени"
   ]
  },
  {
   "cell_type": "code",
   "execution_count": null,
   "metadata": {},
   "outputs": [],
   "source": [
    "sample_size = 200  # размер выборки\n",
    "num_of_features = 4 # кол-во признаков - кол-во столбцов в матр. x и размер вектора w\n",
    "\n",
    "# веса меняются через равные промежутки, на одинаковое кол-во для каждого примера в выборке\n",
    "w = np.linspace(-0.4, 0.4, sample_size)\n",
    "\n",
    "\n",
    "sigma = 0.2"
   ]
  },
  {
   "cell_type": "markdown",
   "metadata": {},
   "source": [
    "### генерация выборки"
   ]
  },
  {
   "cell_type": "code",
   "execution_count": null,
   "metadata": {},
   "outputs": [],
   "source": [
    "x = np.linspace(-10, 10, sample_size).reshape((-1,1))\n",
    "y = np.array([])\n",
    "\n",
    "for w_example, _x in zip(w, x):\n",
    "    w_example = np.asarray(w_example).reshape((-1,))\n",
    "    y = np.append(y, w_example * _x)\n",
    "\n",
    "y = y.reshape((-1,1))"
   ]
  },
  {
   "cell_type": "code",
   "execution_count": null,
   "metadata": {},
   "outputs": [],
   "source": [
    "plt.scatter(x, y);\n",
    "plt.xlabel('x');\n",
    "plt.ylabel('y');"
   ]
  },
  {
   "cell_type": "code",
   "execution_count": null,
   "metadata": {},
   "outputs": [],
   "source": [
    "gen = kaczmarz_alg(x, y, gamma=0.6)\n",
    "w_estiomation_prev_step = next(gen)\n",
    "\n",
    "squared_error_prev_step = get_squared_error(w_estiomation_prev_step, np.asarray(w[0]).reshape((-1,1)))\n",
    "errors = squared_error_prev_step\n",
    "weights = np.array([])\n",
    "\n",
    "for iteration_num, w_estimation in enumerate(gen):\n",
    "    print(iteration_num)\n",
    "    w_example = np.asarray(w[iteration_num]).reshape((-1,1))\n",
    "    print('w...',w_example)\n",
    "    squared_error_current_step = get_squared_error(w_estimation, w_example)\n",
    "\n",
    "    w_estimation = w_estimation.reshape((-1,1))\n",
    "    print(w_estimation, w_estimation.shape, weights.shape)\n",
    "    if weights.size == 0:\n",
    "        weights = w_estimation\n",
    "    else:\n",
    "        weights = np.hstack((weights, w_estimation))\n",
    "    errors = np.append(errors, squared_error_current_step)"
   ]
  },
  {
   "cell_type": "code",
   "execution_count": null,
   "metadata": {},
   "outputs": [],
   "source": [
    "plot_error_and_convergence(errors, weights)"
   ]
  }
 ],
 "metadata": {
  "kernelspec": {
   "display_name": "Python 3",
   "language": "python",
   "name": "python3"
  },
  "language_info": {
   "codemirror_mode": {
    "name": "ipython",
    "version": 3
   },
   "file_extension": ".py",
   "mimetype": "text/x-python",
   "name": "python",
   "nbconvert_exporter": "python",
   "pygments_lexer": "ipython3",
   "version": "3.5.2"
  }
 },
 "nbformat": 4,
 "nbformat_minor": 2
}
