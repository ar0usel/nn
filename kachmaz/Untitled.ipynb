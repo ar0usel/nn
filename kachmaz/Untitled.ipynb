{
 "cells": [
  {
   "cell_type": "code",
   "execution_count": 1,
   "metadata": {},
   "outputs": [],
   "source": [
    "# !pip3 install numpy\n",
    "import numpy as np\n",
    "import matplotlib.pyplot as plt"
   ]
  },
  {
   "cell_type": "code",
   "execution_count": 2,
   "metadata": {},
   "outputs": [
    {
     "name": "stdout",
     "output_type": "stream",
     "text": [
      "[0.88335827]\n"
     ]
    }
   ],
   "source": [
    "w = np.random.rand(1) # это будет истинным значением памяти модели y = w * x + epsilon\n",
    "print(w)\n",
    "\n",
    "y = np.array([])\n",
    "x = np.array([])\n",
    "\n",
    "sigma = 0.1 # дисперсия ошибки(она гаусова)\n",
    "n = 100 # размер выборки\n",
    "for i in range(n):\n",
    "    x = np.append(x, np.random.rand(1))\n",
    "    y = np.append(y, x[i] * w + np.random.randn(1) * sigma)"
   ]
  },
  {
   "cell_type": "code",
   "execution_count": 19,
   "metadata": {},
   "outputs": [
    {
     "data": {
      "text/plain": [
       "False"
      ]
     },
     "execution_count": 19,
     "metadata": {},
     "output_type": "execute_result"
    }
   ],
   "source": [
    "isinstance('str', np.ndarray)"
   ]
  },
  {
   "cell_type": "code",
   "execution_count": 3,
   "metadata": {},
   "outputs": [
    {
     "data": {
      "image/png": "[encoded data removed]",
      "text/plain": [
       "<Figure size 432x288 with 1 Axes>"
      ]
     },
     "metadata": {
      "needs_background": "light"
     },
     "output_type": "display_data"
    }
   ],
   "source": [
    "plt.scatter(x=x, y=y, label='sample')\n",
    "x_line = np.arange(0, 1, 0.01)\n",
    "y_line = x_line * w \n",
    "# print(x_line, y_line)\n",
    "plt.plot(x_line, y_line, linestyle='--', label='y = w * x + epsilon')\n",
    "plt.xlabel('x')\n",
    "plt.ylabel('y')\n",
    "plt.legend()\n",
    "plt.show()"
   ]
  },
  {
   "cell_type": "code",
   "execution_count": 21,
   "metadata": {},
   "outputs": [],
   "source": [
    "def kaczmarz_alg(x, y):\n",
    "    if not isinstance(x, np.ndarray) or not isinstance(y, np.ndarray):\n",
    "        raise TypeError\n",
    "    if x.shape != y.shape:\n",
    "        raise ValueError\n",
    "#     assert())\n",
    "#     assert(x.shape == y.shape)\n",
    "    \n",
    "    w = np.random.randn(1)\n",
    "    for x_sample, y_sample in zip(x, y):\n",
    "        w += w + (y_sample - x_sample * w) / (x_sample * x_sample) * x_sample\n",
    "        yield w"
   ]
  },
  {
   "cell_type": "code",
   "execution_count": 36,
   "metadata": {},
   "outputs": [
    {
     "data": {
      "text/plain": [
       "array([-1.05562926])"
      ]
     },
     "execution_count": 36,
     "metadata": {},
     "output_type": "execute_result"
    }
   ],
   "source": [
    "next(kaczmarz_alg(x, y))"
   ]
  },
  {
   "cell_type": "code",
   "execution_count": 25,
   "metadata": {},
   "outputs": [],
   "source": [
    "import inspect"
   ]
  },
  {
   "cell_type": "code",
   "execution_count": 31,
   "metadata": {},
   "outputs": [
    {
     "data": {
      "text/plain": [
       "'GEN_CREATED'"
      ]
     },
     "execution_count": 31,
     "metadata": {},
     "output_type": "execute_result"
    }
   ],
   "source": [
    "inspect.getgeneratorstate(kaczmarz_alg('str', 'str'))"
   ]
  },
  {
   "cell_type": "code",
   "execution_count": 34,
   "metadata": {},
   "outputs": [
    {
     "ename": "TypeError",
     "evalue": "",
     "output_type": "error",
     "traceback": [
      "\u001b[0;31m---------------------------------------------------------------------------\u001b[0m",
      "\u001b[0;31mTypeError\u001b[0m                                 Traceback (most recent call last)",
      "\u001b[0;32m<ipython-input-34-a6232b2c4750>\u001b[0m in \u001b[0;36m<module>\u001b[0;34m()\u001b[0m\n\u001b[0;32m----> 1\u001b[0;31m \u001b[0mlist\u001b[0m\u001b[0;34m(\u001b[0m\u001b[0mkaczmarz_alg\u001b[0m\u001b[0;34m(\u001b[0m\u001b[0;34m'str'\u001b[0m\u001b[0;34m,\u001b[0m \u001b[0;34m'str'\u001b[0m\u001b[0;34m)\u001b[0m\u001b[0;34m)\u001b[0m\u001b[0;34m\u001b[0m\u001b[0m\n\u001b[0m",
      "\u001b[0;32m<ipython-input-21-d7439d0f6310>\u001b[0m in \u001b[0;36mkaczmarz_alg\u001b[0;34m(x, y)\u001b[0m\n\u001b[1;32m      1\u001b[0m \u001b[0;32mdef\u001b[0m \u001b[0mkaczmarz_alg\u001b[0m\u001b[0;34m(\u001b[0m\u001b[0mx\u001b[0m\u001b[0;34m,\u001b[0m \u001b[0my\u001b[0m\u001b[0;34m)\u001b[0m\u001b[0;34m:\u001b[0m\u001b[0;34m\u001b[0m\u001b[0m\n\u001b[1;32m      2\u001b[0m     \u001b[0;32mif\u001b[0m \u001b[0;32mnot\u001b[0m \u001b[0misinstance\u001b[0m\u001b[0;34m(\u001b[0m\u001b[0mx\u001b[0m\u001b[0;34m,\u001b[0m \u001b[0mnp\u001b[0m\u001b[0;34m.\u001b[0m\u001b[0mndarray\u001b[0m\u001b[0;34m)\u001b[0m \u001b[0;32mor\u001b[0m \u001b[0;32mnot\u001b[0m \u001b[0misinstance\u001b[0m\u001b[0;34m(\u001b[0m\u001b[0my\u001b[0m\u001b[0;34m,\u001b[0m \u001b[0mnp\u001b[0m\u001b[0;34m.\u001b[0m\u001b[0mndarray\u001b[0m\u001b[0;34m)\u001b[0m\u001b[0;34m:\u001b[0m\u001b[0;34m\u001b[0m\u001b[0m\n\u001b[0;32m----> 3\u001b[0;31m         \u001b[0;32mraise\u001b[0m \u001b[0mTypeError\u001b[0m\u001b[0;34m\u001b[0m\u001b[0m\n\u001b[0m\u001b[1;32m      4\u001b[0m     \u001b[0;32mif\u001b[0m \u001b[0mx\u001b[0m\u001b[0;34m.\u001b[0m\u001b[0mshape\u001b[0m \u001b[0;34m!=\u001b[0m \u001b[0my\u001b[0m\u001b[0;34m.\u001b[0m\u001b[0mshape\u001b[0m\u001b[0;34m:\u001b[0m\u001b[0;34m\u001b[0m\u001b[0m\n\u001b[1;32m      5\u001b[0m         \u001b[0;32mraise\u001b[0m \u001b[0mValueError\u001b[0m\u001b[0;34m\u001b[0m\u001b[0m\n",
      "\u001b[0;31mTypeError\u001b[0m: "
     ]
    }
   ],
   "source": [
    "list(kaczmarz_alg('str', 'str'))"
   ]
  },
  {
   "cell_type": "code",
   "execution_count": 22,
   "metadata": {},
   "outputs": [
    {
     "data": {
      "text/plain": [
       "<generator object kaczmarz_alg at 0x7f4406073360>"
      ]
     },
     "execution_count": 22,
     "metadata": {},
     "output_type": "execute_result"
    }
   ],
   "source": [
    "kaczmarz_alg('str', np.array([]))"
   ]
  },
  {
   "cell_type": "code",
   "execution_count": 18,
   "metadata": {},
   "outputs": [
    {
     "name": "stdout",
     "output_type": "stream",
     "text": [
      "[-0.42922076]\n",
      "[0.3194702]\n",
      "[1.04864214]\n",
      "[1.75778509]\n",
      "[2.51472446]\n",
      "[3.33820822]\n",
      "[3.5995809]\n",
      "[4.63048381]\n",
      "[5.52404427]\n",
      "[6.62048112]\n",
      "[9.69894569]\n",
      "[11.38878653]\n",
      "[12.20374478]\n",
      "[12.89340295]\n",
      "[13.57202655]\n",
      "[14.454085]\n",
      "[13.40743954]\n",
      "[14.28871288]\n",
      "[14.92600889]\n",
      "[15.61111139]\n",
      "[16.50722242]\n",
      "[17.04851344]\n",
      "[17.8361887]\n",
      "[17.96311882]\n",
      "[19.05671174]\n",
      "[22.31445838]\n",
      "[23.12287391]\n",
      "[24.04981662]\n",
      "[24.13448343]\n",
      "[24.73427435]\n",
      "[25.63397825]\n",
      "[26.62195873]\n",
      "[27.47078167]\n",
      "[28.38484669]\n",
      "[29.76545797]\n",
      "[30.4407094]\n",
      "[31.79081757]\n",
      "[33.25261703]\n",
      "[34.02240422]\n",
      "[34.73818705]\n",
      "[35.55916853]\n",
      "[36.2463583]\n",
      "[36.92424043]\n",
      "[37.62902269]\n",
      "[38.66355185]\n",
      "[39.42213188]\n",
      "[40.39793808]\n",
      "[41.21988065]\n",
      "[42.10932984]\n",
      "[42.86510679]\n",
      "[43.91649865]\n",
      "[44.86567761]\n",
      "[45.74328859]\n",
      "[46.69188685]\n",
      "[47.39939886]\n",
      "[48.62366565]\n",
      "[49.53407394]\n",
      "[50.29218156]\n",
      "[51.51878811]\n",
      "[52.27048586]\n",
      "[75.93885764]\n",
      "[77.04941884]\n",
      "[78.04257142]\n",
      "[79.22875007]\n",
      "[80.09656415]\n",
      "[81.40313026]\n",
      "[82.49885365]\n",
      "[87.57434736]\n",
      "[88.50350787]\n",
      "[89.59873243]\n",
      "[90.4555708]\n",
      "[91.09198546]\n",
      "[82.06214315]\n",
      "[83.43218623]\n",
      "[84.23561262]\n",
      "[85.29453628]\n",
      "[86.07443244]\n",
      "[86.88866455]\n",
      "[87.60717106]\n",
      "[88.33873441]\n",
      "[88.92196822]\n",
      "[89.90737707]\n",
      "[90.54154748]\n",
      "[91.30242105]\n",
      "[91.92911962]\n",
      "[92.51636817]\n",
      "[92.35580622]\n",
      "[93.12687206]\n",
      "[94.05117501]\n",
      "[94.96723463]\n",
      "[96.27880738]\n",
      "[96.82299035]\n",
      "[97.75319577]\n",
      "[98.64714502]\n",
      "[99.70373272]\n",
      "[101.09520499]\n",
      "[101.96886158]\n",
      "[102.59885875]\n",
      "[103.4889916]\n",
      "[104.45775563]\n"
     ]
    }
   ],
   "source": [
    "for i in kaczmarz_alg(x, y):\n",
    "    print(i)"
   ]
  },
  {
   "cell_type": "code",
   "execution_count": 14,
   "metadata": {},
   "outputs": [
    {
     "name": "stdout",
     "output_type": "stream",
     "text": [
      "w = [0.86249081]\n",
      "w_estiomation = [106.0234394]\n"
     ]
    },
    {
     "data": {
      "image/png": "[encoded data removed]",
      "text/plain": [
       "<Figure size 432x288 with 1 Axes>"
      ]
     },
     "metadata": {
      "needs_background": "light"
     },
     "output_type": "display_data"
    }
   ],
   "source": [
    "w = np.random.rand(1) # это будет истинным значением памяти модели y = w * x + epsilon\n",
    "print('w =', w)\n",
    "\n",
    "y = np.array([])\n",
    "x = np.array([])\n",
    "\n",
    "sigma = 0.1 # дисперсия ошибки(она гаусова)\n",
    "n = 100 # размер выборки\n",
    "for i in range(n):\n",
    "    x = np.append(x, np.random.rand(1))\n",
    "    y = np.append(y, x[i] * w + np.random.randn(1) * sigma)\n",
    "    \n",
    "w_estimation = kaczmarz_alg(x, y)\n",
    "print('w_estiomation =', w_estimation)\n",
    "\n",
    "plt.scatter(x=x, y=y, label='sample')\n",
    "x_line = np.arange(0, 1, 0.01)\n",
    "y_line = x_line * w \n",
    "# print(x_line, y_line)\n",
    "plt.plot(x_line, y_line, linestyle='--', label='y = w * x')\n",
    "y_line_estimation = x_line * w_estimation\n",
    "plt.plot(x_line, y_line_estimation, label='y = w_estimation * x')\n",
    "plt.xlabel('x')\n",
    "plt.ylabel('y')\n",
    "plt.legend()\n",
    "plt.show()"
   ]
  },
  {
   "cell_type": "code",
   "execution_count": null,
   "metadata": {},
   "outputs": [],
   "source": []
  },
  {
   "cell_type": "code",
   "execution_count": null,
   "metadata": {},
   "outputs": [],
   "source": []
  },
  {
   "cell_type": "code",
   "execution_count": null,
   "metadata": {},
   "outputs": [],
   "source": []
  },
  {
   "cell_type": "code",
   "execution_count": null,
   "metadata": {},
   "outputs": [],
   "source": []
  }
 ],
 "metadata": {
  "kernelspec": {
   "display_name": "Python 3",
   "language": "python",
   "name": "python3"
  },
  "language_info": {
   "codemirror_mode": {
    "name": "ipython",
    "version": 3
   },
   "file_extension": ".py",
   "mimetype": "text/x-python",
   "name": "python",
   "nbconvert_exporter": "python",
   "pygments_lexer": "ipython3",
   "version": "3.6.6"
  }
 },
 "nbformat": 4,
 "nbformat_minor": 2
}
